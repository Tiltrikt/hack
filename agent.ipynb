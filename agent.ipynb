{
 "cells": [
  {
   "cell_type": "code",
   "id": "initial_id",
   "metadata": {
    "collapsed": true,
    "ExecuteTime": {
     "end_time": "2024-10-26T19:09:30.334186Z",
     "start_time": "2024-10-26T19:08:55.286694Z"
    }
   },
   "source": [
    "import os\n",
    "import getpass\n",
    "\n",
    "api_key = getpass.getpass(\"Enter your Google API Key: \")\n",
    "os.environ[\"GOOGLE_APPLICATION_CREDENTIALS\"] = api_key\n"
   ],
   "outputs": [],
   "execution_count": 13
  },
  {
   "metadata": {
    "ExecuteTime": {
     "end_time": "2024-10-26T19:09:32.307214Z",
     "start_time": "2024-10-26T19:09:31.910644Z"
    }
   },
   "cell_type": "code",
   "source": [
    "from google.cloud import dialogflowcx_v3beta1 as dialogflow_cx\n",
    "\n",
    "project_id = \"datahackaton-projekt-18\"\n",
    "location = \"us-central1\"\n",
    "agent_id = \"020b0335-0047-491b-8b19-30817270cce0\"\n",
    "language_code = \"en\"\n",
    "\n",
    "# Инициализация клиента\n",
    "client = dialogflow_cx.SessionsClient()\n",
    "\n",
    "# Создайте уникальный идентификатор сессии\n",
    "session_id = \"123456789\"\n",
    "session_path = client.session_path(project_id, location, agent_id, session_id)\n",
    "\n",
    "# Создайте запрос на основе текста\n",
    "text_input = dialogflow_cx.TextInput(text=\"Hello!\")\n",
    "query_input = dialogflow_cx.QueryInput(text=text_input, language_code=language_code)\n",
    "\n",
    "# Выполните запрос и получите ответ\n",
    "response = client.detect_intent(request={\"session\": session_path, \"query_input\": query_input})\n",
    "\n",
    "# Выведите ответ\n",
    "print(\"Response:\", response)\n",
    "\n",
    "# try:\n",
    "#     response = client.detect_intent(request={\"session\": session_path, \"query_input\": query_input})\n",
    "#     print(\"Agent response:\")\n",
    "#     for message in response.query_result.response_messages:\n",
    "#         print(message.text.text[0])\n",
    "# except Exception as e:\n",
    "#     print(\"Error:\", e)"
   ],
   "id": "2b272401f1f392f6",
   "outputs": [
    {
     "ename": "InvalidArgument",
     "evalue": "400 Please refer to https://cloud.google.com/dialogflow/cx/docs/concept/region#avail and https://cloud.google.com/dialogflow/es/docs/how/region#regions to find the correct endpoint to access resources located in 'us-central1'.",
     "output_type": "error",
     "traceback": [
      "\u001B[1;31m---------------------------------------------------------------------------\u001B[0m",
      "\u001B[1;31mInvalidArgument\u001B[0m                           Traceback (most recent call last)",
      "Cell \u001B[1;32mIn[14], line 20\u001B[0m\n\u001B[0;32m     17\u001B[0m query_input \u001B[38;5;241m=\u001B[39m dialogflow_cx\u001B[38;5;241m.\u001B[39mQueryInput(text\u001B[38;5;241m=\u001B[39mtext_input, language_code\u001B[38;5;241m=\u001B[39mlanguage_code)\n\u001B[0;32m     19\u001B[0m \u001B[38;5;66;03m# Выполните запрос и получите ответ\u001B[39;00m\n\u001B[1;32m---> 20\u001B[0m response \u001B[38;5;241m=\u001B[39m client\u001B[38;5;241m.\u001B[39mdetect_intent(request\u001B[38;5;241m=\u001B[39m{\u001B[38;5;124m\"\u001B[39m\u001B[38;5;124msession\u001B[39m\u001B[38;5;124m\"\u001B[39m: session_path, \u001B[38;5;124m\"\u001B[39m\u001B[38;5;124mquery_input\u001B[39m\u001B[38;5;124m\"\u001B[39m: query_input})\n\u001B[0;32m     22\u001B[0m \u001B[38;5;66;03m# Выведите ответ\u001B[39;00m\n\u001B[0;32m     23\u001B[0m \u001B[38;5;28mprint\u001B[39m(\u001B[38;5;124m\"\u001B[39m\u001B[38;5;124mResponse:\u001B[39m\u001B[38;5;124m\"\u001B[39m, response)\n",
      "File \u001B[1;32m~\\miniconda3\\envs\\tuke\\Lib\\site-packages\\google\\cloud\\dialogflowcx_v3beta1\\services\\sessions\\client.py:1064\u001B[0m, in \u001B[0;36mSessionsClient.detect_intent\u001B[1;34m(self, request, retry, timeout, metadata)\u001B[0m\n\u001B[0;32m   1061\u001B[0m \u001B[38;5;28mself\u001B[39m\u001B[38;5;241m.\u001B[39m_validate_universe_domain()\n\u001B[0;32m   1063\u001B[0m \u001B[38;5;66;03m# Send the request.\u001B[39;00m\n\u001B[1;32m-> 1064\u001B[0m response \u001B[38;5;241m=\u001B[39m rpc(\n\u001B[0;32m   1065\u001B[0m     request,\n\u001B[0;32m   1066\u001B[0m     retry\u001B[38;5;241m=\u001B[39mretry,\n\u001B[0;32m   1067\u001B[0m     timeout\u001B[38;5;241m=\u001B[39mtimeout,\n\u001B[0;32m   1068\u001B[0m     metadata\u001B[38;5;241m=\u001B[39mmetadata,\n\u001B[0;32m   1069\u001B[0m )\n\u001B[0;32m   1071\u001B[0m \u001B[38;5;66;03m# Done; return the response.\u001B[39;00m\n\u001B[0;32m   1072\u001B[0m \u001B[38;5;28;01mreturn\u001B[39;00m response\n",
      "File \u001B[1;32m~\\miniconda3\\envs\\tuke\\Lib\\site-packages\\google\\api_core\\gapic_v1\\method.py:131\u001B[0m, in \u001B[0;36m_GapicCallable.__call__\u001B[1;34m(self, timeout, retry, compression, *args, **kwargs)\u001B[0m\n\u001B[0;32m    128\u001B[0m \u001B[38;5;28;01mif\u001B[39;00m \u001B[38;5;28mself\u001B[39m\u001B[38;5;241m.\u001B[39m_compression \u001B[38;5;129;01mis\u001B[39;00m \u001B[38;5;129;01mnot\u001B[39;00m \u001B[38;5;28;01mNone\u001B[39;00m:\n\u001B[0;32m    129\u001B[0m     kwargs[\u001B[38;5;124m\"\u001B[39m\u001B[38;5;124mcompression\u001B[39m\u001B[38;5;124m\"\u001B[39m] \u001B[38;5;241m=\u001B[39m compression\n\u001B[1;32m--> 131\u001B[0m \u001B[38;5;28;01mreturn\u001B[39;00m wrapped_func(\u001B[38;5;241m*\u001B[39margs, \u001B[38;5;241m*\u001B[39m\u001B[38;5;241m*\u001B[39mkwargs)\n",
      "File \u001B[1;32m~\\miniconda3\\envs\\tuke\\Lib\\site-packages\\google\\api_core\\retry\\retry_unary.py:293\u001B[0m, in \u001B[0;36mRetry.__call__.<locals>.retry_wrapped_func\u001B[1;34m(*args, **kwargs)\u001B[0m\n\u001B[0;32m    289\u001B[0m target \u001B[38;5;241m=\u001B[39m functools\u001B[38;5;241m.\u001B[39mpartial(func, \u001B[38;5;241m*\u001B[39margs, \u001B[38;5;241m*\u001B[39m\u001B[38;5;241m*\u001B[39mkwargs)\n\u001B[0;32m    290\u001B[0m sleep_generator \u001B[38;5;241m=\u001B[39m exponential_sleep_generator(\n\u001B[0;32m    291\u001B[0m     \u001B[38;5;28mself\u001B[39m\u001B[38;5;241m.\u001B[39m_initial, \u001B[38;5;28mself\u001B[39m\u001B[38;5;241m.\u001B[39m_maximum, multiplier\u001B[38;5;241m=\u001B[39m\u001B[38;5;28mself\u001B[39m\u001B[38;5;241m.\u001B[39m_multiplier\n\u001B[0;32m    292\u001B[0m )\n\u001B[1;32m--> 293\u001B[0m \u001B[38;5;28;01mreturn\u001B[39;00m retry_target(\n\u001B[0;32m    294\u001B[0m     target,\n\u001B[0;32m    295\u001B[0m     \u001B[38;5;28mself\u001B[39m\u001B[38;5;241m.\u001B[39m_predicate,\n\u001B[0;32m    296\u001B[0m     sleep_generator,\n\u001B[0;32m    297\u001B[0m     timeout\u001B[38;5;241m=\u001B[39m\u001B[38;5;28mself\u001B[39m\u001B[38;5;241m.\u001B[39m_timeout,\n\u001B[0;32m    298\u001B[0m     on_error\u001B[38;5;241m=\u001B[39mon_error,\n\u001B[0;32m    299\u001B[0m )\n",
      "File \u001B[1;32m~\\miniconda3\\envs\\tuke\\Lib\\site-packages\\google\\api_core\\retry\\retry_unary.py:153\u001B[0m, in \u001B[0;36mretry_target\u001B[1;34m(target, predicate, sleep_generator, timeout, on_error, exception_factory, **kwargs)\u001B[0m\n\u001B[0;32m    149\u001B[0m \u001B[38;5;66;03m# pylint: disable=broad-except\u001B[39;00m\n\u001B[0;32m    150\u001B[0m \u001B[38;5;66;03m# This function explicitly must deal with broad exceptions.\u001B[39;00m\n\u001B[0;32m    151\u001B[0m \u001B[38;5;28;01mexcept\u001B[39;00m \u001B[38;5;167;01mException\u001B[39;00m \u001B[38;5;28;01mas\u001B[39;00m exc:\n\u001B[0;32m    152\u001B[0m     \u001B[38;5;66;03m# defer to shared logic for handling errors\u001B[39;00m\n\u001B[1;32m--> 153\u001B[0m     _retry_error_helper(\n\u001B[0;32m    154\u001B[0m         exc,\n\u001B[0;32m    155\u001B[0m         deadline,\n\u001B[0;32m    156\u001B[0m         sleep,\n\u001B[0;32m    157\u001B[0m         error_list,\n\u001B[0;32m    158\u001B[0m         predicate,\n\u001B[0;32m    159\u001B[0m         on_error,\n\u001B[0;32m    160\u001B[0m         exception_factory,\n\u001B[0;32m    161\u001B[0m         timeout,\n\u001B[0;32m    162\u001B[0m     )\n\u001B[0;32m    163\u001B[0m     \u001B[38;5;66;03m# if exception not raised, sleep before next attempt\u001B[39;00m\n\u001B[0;32m    164\u001B[0m     time\u001B[38;5;241m.\u001B[39msleep(sleep)\n",
      "File \u001B[1;32m~\\miniconda3\\envs\\tuke\\Lib\\site-packages\\google\\api_core\\retry\\retry_base.py:212\u001B[0m, in \u001B[0;36m_retry_error_helper\u001B[1;34m(exc, deadline, next_sleep, error_list, predicate_fn, on_error_fn, exc_factory_fn, original_timeout)\u001B[0m\n\u001B[0;32m    206\u001B[0m \u001B[38;5;28;01mif\u001B[39;00m \u001B[38;5;129;01mnot\u001B[39;00m predicate_fn(exc):\n\u001B[0;32m    207\u001B[0m     final_exc, source_exc \u001B[38;5;241m=\u001B[39m exc_factory_fn(\n\u001B[0;32m    208\u001B[0m         error_list,\n\u001B[0;32m    209\u001B[0m         RetryFailureReason\u001B[38;5;241m.\u001B[39mNON_RETRYABLE_ERROR,\n\u001B[0;32m    210\u001B[0m         original_timeout,\n\u001B[0;32m    211\u001B[0m     )\n\u001B[1;32m--> 212\u001B[0m     \u001B[38;5;28;01mraise\u001B[39;00m final_exc \u001B[38;5;28;01mfrom\u001B[39;00m \u001B[38;5;21;01msource_exc\u001B[39;00m\n\u001B[0;32m    213\u001B[0m \u001B[38;5;28;01mif\u001B[39;00m on_error_fn \u001B[38;5;129;01mis\u001B[39;00m \u001B[38;5;129;01mnot\u001B[39;00m \u001B[38;5;28;01mNone\u001B[39;00m:\n\u001B[0;32m    214\u001B[0m     on_error_fn(exc)\n",
      "File \u001B[1;32m~\\miniconda3\\envs\\tuke\\Lib\\site-packages\\google\\api_core\\retry\\retry_unary.py:144\u001B[0m, in \u001B[0;36mretry_target\u001B[1;34m(target, predicate, sleep_generator, timeout, on_error, exception_factory, **kwargs)\u001B[0m\n\u001B[0;32m    142\u001B[0m \u001B[38;5;28;01mfor\u001B[39;00m sleep \u001B[38;5;129;01min\u001B[39;00m sleep_generator:\n\u001B[0;32m    143\u001B[0m     \u001B[38;5;28;01mtry\u001B[39;00m:\n\u001B[1;32m--> 144\u001B[0m         result \u001B[38;5;241m=\u001B[39m target()\n\u001B[0;32m    145\u001B[0m         \u001B[38;5;28;01mif\u001B[39;00m inspect\u001B[38;5;241m.\u001B[39misawaitable(result):\n\u001B[0;32m    146\u001B[0m             warnings\u001B[38;5;241m.\u001B[39mwarn(_ASYNC_RETRY_WARNING)\n",
      "File \u001B[1;32m~\\miniconda3\\envs\\tuke\\Lib\\site-packages\\google\\api_core\\timeout.py:120\u001B[0m, in \u001B[0;36mTimeToDeadlineTimeout.__call__.<locals>.func_with_timeout\u001B[1;34m(*args, **kwargs)\u001B[0m\n\u001B[0;32m    117\u001B[0m     \u001B[38;5;66;03m# Avoid setting negative timeout\u001B[39;00m\n\u001B[0;32m    118\u001B[0m     kwargs[\u001B[38;5;124m\"\u001B[39m\u001B[38;5;124mtimeout\u001B[39m\u001B[38;5;124m\"\u001B[39m] \u001B[38;5;241m=\u001B[39m \u001B[38;5;28mmax\u001B[39m(\u001B[38;5;241m0\u001B[39m, \u001B[38;5;28mself\u001B[39m\u001B[38;5;241m.\u001B[39m_timeout \u001B[38;5;241m-\u001B[39m time_since_first_attempt)\n\u001B[1;32m--> 120\u001B[0m \u001B[38;5;28;01mreturn\u001B[39;00m func(\u001B[38;5;241m*\u001B[39margs, \u001B[38;5;241m*\u001B[39m\u001B[38;5;241m*\u001B[39mkwargs)\n",
      "File \u001B[1;32m~\\miniconda3\\envs\\tuke\\Lib\\site-packages\\google\\api_core\\grpc_helpers.py:78\u001B[0m, in \u001B[0;36m_wrap_unary_errors.<locals>.error_remapped_callable\u001B[1;34m(*args, **kwargs)\u001B[0m\n\u001B[0;32m     76\u001B[0m     \u001B[38;5;28;01mreturn\u001B[39;00m callable_(\u001B[38;5;241m*\u001B[39margs, \u001B[38;5;241m*\u001B[39m\u001B[38;5;241m*\u001B[39mkwargs)\n\u001B[0;32m     77\u001B[0m \u001B[38;5;28;01mexcept\u001B[39;00m grpc\u001B[38;5;241m.\u001B[39mRpcError \u001B[38;5;28;01mas\u001B[39;00m exc:\n\u001B[1;32m---> 78\u001B[0m     \u001B[38;5;28;01mraise\u001B[39;00m exceptions\u001B[38;5;241m.\u001B[39mfrom_grpc_error(exc) \u001B[38;5;28;01mfrom\u001B[39;00m \u001B[38;5;21;01mexc\u001B[39;00m\n",
      "\u001B[1;31mInvalidArgument\u001B[0m: 400 Please refer to https://cloud.google.com/dialogflow/cx/docs/concept/region#avail and https://cloud.google.com/dialogflow/es/docs/how/region#regions to find the correct endpoint to access resources located in 'us-central1'."
     ]
    }
   ],
   "execution_count": 14
  },
  {
   "metadata": {
    "ExecuteTime": {
     "end_time": "2024-10-26T19:04:30.809196Z",
     "start_time": "2024-10-26T19:04:30.786730Z"
    }
   },
   "cell_type": "code",
   "source": [
    "from google.cloud.dialogflow_v2 import Agent, AgentsClient, SetAgentRequest\n",
    "import google.protobuf.field_mask_pb2\n",
    "\n",
    "\n",
    "def set_agent(project_id, display_name):\n",
    "    agents_client = AgentsClient()\n",
    "\n",
    "    parent = agents_client.common_project_path(project_id)\n",
    "\n",
    "    agent = Agent(\n",
    "        parent=parent,\n",
    "        display_name=display_name,\n",
    "        default_language_code=\"en\",\n",
    "        time_zone=\"America/Los_Angeles\",\n",
    "    )\n",
    "\n",
    "    update_mask = google.protobuf.field_mask_pb2.FieldMask()\n",
    "    update_mask.FromJsonString(\"displayName,defaultLanguageCode,timeZone\")\n",
    "\n",
    "    request = SetAgentRequest(\n",
    "        agent=agent,\n",
    "        update_mask=update_mask,\n",
    "    )\n",
    "\n",
    "    return agents_client.set_agent(request=request)\n"
   ],
   "id": "7a3348fd6a4f3623",
   "outputs": [
    {
     "ename": "ModuleNotFoundError",
     "evalue": "No module named 'google.cloud.dialogflow_v2'",
     "output_type": "error",
     "traceback": [
      "\u001B[1;31m---------------------------------------------------------------------------\u001B[0m",
      "\u001B[1;31mModuleNotFoundError\u001B[0m                       Traceback (most recent call last)",
      "Cell \u001B[1;32mIn[7], line 1\u001B[0m\n\u001B[1;32m----> 1\u001B[0m \u001B[38;5;28;01mfrom\u001B[39;00m \u001B[38;5;21;01mgoogle\u001B[39;00m\u001B[38;5;21;01m.\u001B[39;00m\u001B[38;5;21;01mcloud\u001B[39;00m\u001B[38;5;21;01m.\u001B[39;00m\u001B[38;5;21;01mdialogflow_v2\u001B[39;00m \u001B[38;5;28;01mimport\u001B[39;00m Agent, AgentsClient, SetAgentRequest\n\u001B[0;32m      2\u001B[0m \u001B[38;5;28;01mimport\u001B[39;00m \u001B[38;5;21;01mgoogle\u001B[39;00m\u001B[38;5;21;01m.\u001B[39;00m\u001B[38;5;21;01mprotobuf\u001B[39;00m\u001B[38;5;21;01m.\u001B[39;00m\u001B[38;5;21;01mfield_mask_pb2\u001B[39;00m\n\u001B[0;32m      5\u001B[0m \u001B[38;5;28;01mdef\u001B[39;00m \u001B[38;5;21mset_agent\u001B[39m(project_id, display_name):\n",
      "\u001B[1;31mModuleNotFoundError\u001B[0m: No module named 'google.cloud.dialogflow_v2'"
     ]
    }
   ],
   "execution_count": 7
  }
 ],
 "metadata": {
  "kernelspec": {
   "display_name": "Python 3",
   "language": "python",
   "name": "python3"
  },
  "language_info": {
   "codemirror_mode": {
    "name": "ipython",
    "version": 2
   },
   "file_extension": ".py",
   "mimetype": "text/x-python",
   "name": "python",
   "nbconvert_exporter": "python",
   "pygments_lexer": "ipython2",
   "version": "2.7.6"
  }
 },
 "nbformat": 4,
 "nbformat_minor": 5
}
