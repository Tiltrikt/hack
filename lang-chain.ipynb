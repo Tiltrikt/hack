{
 "cells": [
  {
   "cell_type": "code",
   "id": "initial_id",
   "metadata": {
    "collapsed": true,
    "ExecuteTime": {
     "end_time": "2024-10-26T16:03:34.091861Z",
     "start_time": "2024-10-26T16:03:10.004835Z"
    }
   },
   "source": [
    "import getpass\n",
    "import os\n",
    "\n",
    "api_key = getpass.getpass(\"Enter your Google API Key: \")\n",
    "os.environ[\"GOOGLE_APPLICATION_CREDENTIALS\"] = api_key\n",
    "os.environ[\"GOOGLE_API_KEY\"] = getpass.getpass()\n",
    "\n",
    "print(os.environ.get(\"GOOGLE_APPLICATION_CREDENTIALS\"))\n",
    "\n",
    "from langchain_google_vertexai import ChatVertexAI\n",
    "\n",
    "model = ChatVertexAI(model=\"gemini-1.5-flash-002\")"
   ],
   "outputs": [
    {
     "name": "stdout",
     "output_type": "stream",
     "text": [
      "D:\\datahackaton-projekt-18-281a9f33858f.json\n"
     ]
    }
   ],
   "execution_count": 16
  },
  {
   "metadata": {
    "ExecuteTime": {
     "end_time": "2024-10-26T16:03:37.047329Z",
     "start_time": "2024-10-26T16:03:35.831023Z"
    }
   },
   "cell_type": "code",
   "source": [
    "from langchain_core.messages import HumanMessage, SystemMessage\n",
    "\n",
    "messages = [\n",
    "    SystemMessage(content=\"Translate the following from English into Russian\"),\n",
    "    HumanMessage(content=\"Hello my dear friend! How are you?\"),\n",
    "]\n",
    "\n",
    "result = model.invoke(messages)"
   ],
   "id": "eb216585bdd8967c",
   "outputs": [],
   "execution_count": 17
  },
  {
   "metadata": {
    "ExecuteTime": {
     "end_time": "2024-10-26T15:44:36.224989Z",
     "start_time": "2024-10-26T15:44:36.216549Z"
    }
   },
   "cell_type": "code",
   "source": [
    "from langchain_core.output_parsers import StrOutputParser\n",
    "\n",
    "parser = StrOutputParser()\n",
    "parser.invoke(result)"
   ],
   "id": "f590428ca259da9f",
   "outputs": [
    {
     "data": {
      "text/plain": [
       "'Привет, мой дорогой друг! Как дела?\\n'"
      ]
     },
     "execution_count": 3,
     "metadata": {},
     "output_type": "execute_result"
    }
   ],
   "execution_count": 3
  },
  {
   "metadata": {
    "ExecuteTime": {
     "end_time": "2024-10-26T15:44:40.174001Z",
     "start_time": "2024-10-26T15:44:40.169272Z"
    }
   },
   "cell_type": "code",
   "source": [
    "from langchain_core.prompts import ChatPromptTemplate\n",
    "\n",
    "system_template = \"Translate the following into {language}:\""
   ],
   "id": "f7fbd418e68f364",
   "outputs": [],
   "execution_count": 4
  },
  {
   "metadata": {
    "ExecuteTime": {
     "end_time": "2024-10-26T15:44:41.678253Z",
     "start_time": "2024-10-26T15:44:41.671394Z"
    }
   },
   "cell_type": "code",
   "source": [
    "prompt_template = ChatPromptTemplate.from_messages(\n",
    "    [(\"system\", system_template), (\"user\", \"{text}\")]\n",
    ")"
   ],
   "id": "dcf484280d95ccd",
   "outputs": [],
   "execution_count": 5
  },
  {
   "metadata": {
    "ExecuteTime": {
     "end_time": "2024-10-26T15:44:43.274448Z",
     "start_time": "2024-10-26T15:44:43.268211Z"
    }
   },
   "cell_type": "code",
   "source": [
    "result = prompt_template.invoke({\"language\": \"italian\", \"text\": \"hi\"})\n",
    "\n",
    "result"
   ],
   "id": "35129716efa6977f",
   "outputs": [
    {
     "data": {
      "text/plain": [
       "ChatPromptValue(messages=[SystemMessage(content='Translate the following into italian:', additional_kwargs={}, response_metadata={}), HumanMessage(content='hi', additional_kwargs={}, response_metadata={})])"
      ]
     },
     "execution_count": 6,
     "metadata": {},
     "output_type": "execute_result"
    }
   ],
   "execution_count": 6
  },
  {
   "metadata": {
    "ExecuteTime": {
     "end_time": "2024-10-26T15:44:44.511199Z",
     "start_time": "2024-10-26T15:44:44.498883Z"
    }
   },
   "cell_type": "code",
   "source": "result.to_messages()",
   "id": "251543b29c327075",
   "outputs": [
    {
     "data": {
      "text/plain": [
       "[SystemMessage(content='Translate the following into italian:', additional_kwargs={}, response_metadata={}),\n",
       " HumanMessage(content='hi', additional_kwargs={}, response_metadata={})]"
      ]
     },
     "execution_count": 7,
     "metadata": {},
     "output_type": "execute_result"
    }
   ],
   "execution_count": 7
  },
  {
   "metadata": {
    "ExecuteTime": {
     "end_time": "2024-10-26T15:44:45.673762Z",
     "start_time": "2024-10-26T15:44:45.666832Z"
    }
   },
   "cell_type": "code",
   "source": "chain = prompt_template | model | parser",
   "id": "ccbe979f37e9b985",
   "outputs": [],
   "execution_count": 8
  },
  {
   "metadata": {
    "ExecuteTime": {
     "end_time": "2024-10-26T15:44:47.672373Z",
     "start_time": "2024-10-26T15:44:47.259968Z"
    }
   },
   "cell_type": "code",
   "source": "chain.invoke({\"language\": \"italian\", \"text\": \"hi\"})",
   "id": "38325db824518f0b",
   "outputs": [
    {
     "data": {
      "text/plain": [
       "'Ciao\\n'"
      ]
     },
     "execution_count": 9,
     "metadata": {},
     "output_type": "execute_result"
    }
   ],
   "execution_count": 9
  },
  {
   "metadata": {
    "ExecuteTime": {
     "end_time": "2024-10-26T16:28:17.887740Z",
     "start_time": "2024-10-26T16:28:17.876555Z"
    }
   },
   "cell_type": "code",
   "source": [
    "from langchain_core.documents import Document\n",
    "\n",
    "documents = [\n",
    "    Document(page_content=\"Dogs are great companions, known for their loyalty and friendliness.\", metadata={\"source\": \"mammal-pets-doc\", \"pet_type\": \"dog\"}),\n",
    "    Document(page_content=\"Cats are independent pets that often enjoy their own space.\", metadata={\"source\": \"mammal-pets-doc\", \"pet_type\": \"cat\"}),\n",
    "    Document(page_content=\"Goldfish are popular pets for beginners, requiring relatively simple care.\", metadata={\"source\": \"fish-pets-doc\", \"pet_type\": \"fish\"}),\n",
    "    Document(page_content=\"Parrots are intelligent birds capable of mimicking human speech.\", metadata={\"source\": \"bird-pets-doc\", \"pet_type\": \"bird\"}),\n",
    "    Document(page_content=\"Rabbits are social animals that need plenty of space to hop around.\", metadata={\"source\": \"mammal-pets-doc\", \"pet_type\": \"rabbit\"}),\n",
    "    Document(page_content=\"Choosing a pet depends on your lifestyle and living situation.\", metadata={\"source\": \"pet-advice-doc\", \"topic\": \"pet selection\"}),\n",
    "    Document(page_content=\"Proper pet care involves providing adequate food, water, and enrichment.\", metadata={\"source\": \"pet-advice-doc\", \"topic\": \"pet care\"})\n",
    "]"
   ],
   "id": "c86c3f7f221c6071",
   "outputs": [],
   "execution_count": 49
  },
  {
   "metadata": {
    "ExecuteTime": {
     "end_time": "2024-10-26T16:28:22.526270Z",
     "start_time": "2024-10-26T16:28:21.420696Z"
    }
   },
   "cell_type": "code",
   "source": [
    "from langchain_chroma import Chroma\n",
    "from langchain_google_genai import GoogleGenerativeAIEmbeddings\n",
    "\n",
    "os.environ[\"GOOGLE_API_KEY\"] = \"\"\n",
    "\n",
    "embedding = GoogleGenerativeAIEmbeddings(model=\"models/embedding-001\")\n",
    "vectorstore = Chroma.from_documents(\n",
    "    documents,\n",
    "    embedding=embedding,\n",
    ")"
   ],
   "id": "e93e3616495f0a52",
   "outputs": [],
   "execution_count": 50
  },
  {
   "metadata": {
    "ExecuteTime": {
     "end_time": "2024-10-26T16:28:24.060736Z",
     "start_time": "2024-10-26T16:28:23.736458Z"
    }
   },
   "cell_type": "code",
   "source": "vectorstore.similarity_search(\"cat\")",
   "id": "6d09311e55944423",
   "outputs": [
    {
     "data": {
      "text/plain": [
       "[Document(metadata={'source': 'mammal-pets-doc'}, page_content='Cats are independent pets that often enjoy their own space.'),\n",
       " Document(metadata={'source': 'mammal-pets-doc'}, page_content='Cats are independent pets that often enjoy their own space.'),\n",
       " Document(metadata={'pet_type': 'cat', 'source': 'mammal-pets-doc'}, page_content='Cats are independent pets that often enjoy their own space.'),\n",
       " Document(metadata={'source': 'pet-advice-doc', 'topic': 'pet selection'}, page_content='Choosing a pet depends on your lifestyle and living situation.')]"
      ]
     },
     "execution_count": 51,
     "metadata": {},
     "output_type": "execute_result"
    }
   ],
   "execution_count": 51
  },
  {
   "metadata": {
    "ExecuteTime": {
     "end_time": "2024-10-26T16:28:36.817188Z",
     "start_time": "2024-10-26T16:28:36.517284Z"
    }
   },
   "cell_type": "code",
   "source": "vectorstore.similarity_search_with_score(\"cat\", k=7)",
   "id": "c20691b5c71c9d56",
   "outputs": [
    {
     "data": {
      "text/plain": [
       "[(Document(metadata={'source': 'mammal-pets-doc'}, page_content='Cats are independent pets that often enjoy their own space.'),\n",
       "  0.6390674114227295),\n",
       " (Document(metadata={'source': 'mammal-pets-doc'}, page_content='Cats are independent pets that often enjoy their own space.'),\n",
       "  0.6390674114227295),\n",
       " (Document(metadata={'pet_type': 'cat', 'source': 'mammal-pets-doc'}, page_content='Cats are independent pets that often enjoy their own space.'),\n",
       "  0.6390674114227295),\n",
       " (Document(metadata={'source': 'pet-advice-doc', 'topic': 'pet selection'}, page_content='Choosing a pet depends on your lifestyle and living situation.'),\n",
       "  0.8389304876327515),\n",
       " (Document(metadata={'source': 'pet-advice-doc', 'topic': 'pet care'}, page_content='Proper pet care involves providing adequate food, water, and enrichment.'),\n",
       "  0.8391101360321045),\n",
       " (Document(metadata={'source': 'mammal-pets-doc'}, page_content='Dogs are great companions, known for their loyalty and friendliness.'),\n",
       "  0.8766832947731018),\n",
       " (Document(metadata={'source': 'mammal-pets-doc'}, page_content='Dogs are great companions, known for their loyalty and friendliness.'),\n",
       "  0.8766832947731018)]"
      ]
     },
     "execution_count": 53,
     "metadata": {},
     "output_type": "execute_result"
    }
   ],
   "execution_count": 53
  },
  {
   "metadata": {
    "ExecuteTime": {
     "end_time": "2024-10-26T16:16:01.450507Z",
     "start_time": "2024-10-26T16:16:01.124881Z"
    }
   },
   "cell_type": "code",
   "source": "vectorstore.similarity_search_by_vector(embedding.embed_query(\"cat\"))",
   "id": "d987e03f078a8d87",
   "outputs": [
    {
     "data": {
      "text/plain": [
       "[Document(metadata={'source': 'mammal-pets-doc'}, page_content='Cats are independent pets that often enjoy their own space.'),\n",
       " Document(metadata={'source': 'mammal-pets-doc'}, page_content='Cats are independent pets that often enjoy their own space.'),\n",
       " Document(metadata={'source': 'mammal-pets-doc'}, page_content='Dogs are great companions, known for their loyalty and friendliness.'),\n",
       " Document(metadata={'source': 'mammal-pets-doc'}, page_content='Dogs are great companions, known for their loyalty and friendliness.')]"
      ]
     },
     "execution_count": 29,
     "metadata": {},
     "output_type": "execute_result"
    }
   ],
   "execution_count": 29
  },
  {
   "metadata": {
    "ExecuteTime": {
     "end_time": "2024-10-26T18:19:01.875923Z",
     "start_time": "2024-10-26T18:19:01.871074Z"
    }
   },
   "cell_type": "code",
   "source": [
    "# TODO : Set values as per your requirements\n",
    "# Project and Storage Constants\n",
    "PROJECT_ID = \"datahackaton-projekt-18\"\n",
    "REGION = \"us-central1\"\n",
    "BUCKET = \"example-model-1\"\n",
    "BUCKET_URI = f\"gs://{BUCKET}\"\n",
    "\n",
    "# The number of dimensions for the textembedding-gecko@003 is 768\n",
    "# If other embedder is used, the dimensions would probably need to change.\n",
    "DIMENSIONS = 768\n",
    "\n",
    "# Index Constants\n",
    "DISPLAY_NAME = \"my_matching_engine_index_id\"\n",
    "DEPLOYED_INDEX_ID = \"my_matching_engine_endpoint_id\""
   ],
   "id": "925c0ae3697bd143",
   "outputs": [],
   "execution_count": 54
  },
  {
   "metadata": {
    "ExecuteTime": {
     "end_time": "2024-10-26T18:24:10.623196Z",
     "start_time": "2024-10-26T18:24:10.616971Z"
    }
   },
   "cell_type": "code",
   "source": [
    "gcloud storage buckets create $BUCKET_URI --project=$PROJECT_ID --location=$REGION\n",
    "from google.cloud import aiplatform\n",
    "from langchain_google_vertexai import VertexAIEmbeddings\n",
    "aiplatform.init(project=PROJECT_ID, location=REGION, staging_bucket=BUCKET_URI)\n",
    "embedding_model = VertexAIEmbeddings(model_name=\"textembedding-gecko@003\")"
   ],
   "id": "59ac119bcf30b311",
   "outputs": [
    {
     "ename": "SyntaxError",
     "evalue": "invalid syntax (768178236.py, line 1)",
     "output_type": "error",
     "traceback": [
      "\u001B[1;36m  Cell \u001B[1;32mIn[57], line 1\u001B[1;36m\u001B[0m\n\u001B[1;33m    gcloud storage buckets create $BUCKET_URI --project=$PROJECT_ID --location=$REGION\u001B[0m\n\u001B[1;37m           ^\u001B[0m\n\u001B[1;31mSyntaxError\u001B[0m\u001B[1;31m:\u001B[0m invalid syntax\n"
     ]
    }
   ],
   "execution_count": 57
  },
  {
   "metadata": {
    "ExecuteTime": {
     "end_time": "2024-10-26T18:28:07.705297Z",
     "start_time": "2024-10-26T18:25:08.504327Z"
    }
   },
   "cell_type": "code",
   "source": [
    "my_index = aiplatform.MatchingEngineIndex.create_tree_ah_index(\n",
    "    display_name=DISPLAY_NAME,\n",
    "    dimensions=DIMENSIONS,\n",
    "    approximate_neighbors_count=150,\n",
    "    distance_measure_type=\"DOT_PRODUCT_DISTANCE\",\n",
    "    index_update_method=\"STREAM_UPDATE\",  # allowed values BATCH_UPDATE , STREAM_UPDATE\n",
    ")"
   ],
   "id": "3370dca47db4242b",
   "outputs": [
    {
     "name": "stdout",
     "output_type": "stream",
     "text": [
      "Creating MatchingEngineIndex\n",
      "Create MatchingEngineIndex backing LRO: projects/401672915742/locations/us-central1/indexes/5992861738914021376/operations/5834784574231543808\n",
      "MatchingEngineIndex created. Resource name: projects/401672915742/locations/us-central1/indexes/5992861738914021376\n",
      "To use this MatchingEngineIndex in another session:\n",
      "index = aiplatform.MatchingEngineIndex('projects/401672915742/locations/us-central1/indexes/5992861738914021376')\n"
     ]
    }
   ],
   "execution_count": 58
  },
  {
   "metadata": {},
   "cell_type": "code",
   "outputs": [],
   "execution_count": null,
   "source": "",
   "id": "2a1a0b56b007352f"
  }
 ],
 "metadata": {
  "kernelspec": {
   "display_name": "Python 3",
   "language": "python",
   "name": "python3"
  },
  "language_info": {
   "codemirror_mode": {
    "name": "ipython",
    "version": 2
   },
   "file_extension": ".py",
   "mimetype": "text/x-python",
   "name": "python",
   "nbconvert_exporter": "python",
   "pygments_lexer": "ipython2",
   "version": "2.7.6"
  }
 },
 "nbformat": 4,
 "nbformat_minor": 5
}
